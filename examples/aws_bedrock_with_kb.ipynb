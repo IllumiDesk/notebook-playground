{
 "cells": [
  {
   "cell_type": "markdown",
   "metadata": {},
   "source": [
    "# Manage Bedrock Knowledge Bases with Boto3"
   ]
  },
  {
   "cell_type": "markdown",
   "metadata": {},
   "source": [
    "## Overview of Steps\n",
    "\n",
    "### Permissions\n",
    "\n",
    "> [AWS Docs]()\n",
    "\n",
    "1. Configure Permissions for OpenSearch Serverless\n",
    "2. Configure Permissions for Bedrock (create policies and service role)\n",
    "3. Configure Model Invocation Logging\n",
    "\n",
    "### OpenSearch Servless Collection\n",
    "\n",
    "[Docs](https://boto3.amazonaws.com/v1/documentation/api/latest/reference/services/opensearchserverless/client/create_collection.html)\n",
    "\n",
    "Add description\n",
    "Add name\n",
    "Set stand by replicas (enabled or disabled)\n",
    "(Optional) Add Tags\n",
    "Set type ('VECTORSEARCH')\n",
    "\n",
    "\n",
    "### Bedrock Knowledge Base\n",
    "\n",
    "#### Create Knowledge Base and attach service role\n",
    "\n",
    "[Docs](https://boto3.amazonaws.com/v1/documentation/api/latest/reference/services/bedrock-agent/client/create_knowledge_base.html)\n",
    "\n",
    "Add name\n",
    "Add description\n",
    "Add Bedrock Service Role ARN\n",
    "Add embedding model ARN to knowledge base configuration\n",
    "Add collection ARN to storage configuration\n",
    "Add vector index name to storage configuration\n",
    "Add vector field, index field, and field mapping to storage configuraiton field mapping key\n",
    "(Optional add tags)\n",
    "\n",
    "#### Setup Knowledge Base\n",
    "\n",
    "> [AWS Docs]()\n",
    "\n",
    "\n",
    "#### Model Invocation Logging\n",
    "\n",
    "> [AWS Docs](https://docs.aws.amazon.com/bedrock/latest/userguide/settings.html#model-invocation-logging)\n",
    "\n",
    "##### Option 1: Set Up CloudWatch for Invocation Logging\n",
    "\n",
    "1. S3 Bucket Destination for Invocation Logging\n",
    "2. Attach an S3 bucket policy\n",
    "\n",
    "##### Option 2: Set Up S3 Bucket for Invocation Logging\n",
    "\n",
    "1. Create CloudWatch log group\n",
    "2. Create IAM Role with permissions to access CloudWatch logs (Trusted entity)\n",
    "3. Attach IAM Role policy (Role policy)\n",
    "\n",
    "#### Set Up Data for Ingestion\n",
    "\n",
    "> [AWS Docs](https://docs.aws.amazon.com/bedrock/latest/userguide/knowledge-base-setup.html)\n",
    "\n",
    "#### Set Up and Verity the Bedrock API Setup\n",
    "\n",
    "1. \n",
    "#### \n",
    "\n",
    "1. Configure the data sources to add to your knowledge base.\n",
    "2. Upload your data to an Amazon S3 bucket.\n",
    "3. Ingest your data by generating embeddings with a foundation model and storing them in a supported vector store.\n",
    "4. Set up your application or agent to query the knowledge base and return augmented responses.\n",
    "\n",
    "\n",
    "4. Create a Collection\n",
    "5. \n",
    "6. \n"
   ]
  },
  {
   "cell_type": "markdown",
   "metadata": {},
   "source": [
    "### Configure Setup"
   ]
  },
  {
   "cell_type": "markdown",
   "metadata": {},
   "source": [
    "#### Import Dependencies"
   ]
  },
  {
   "cell_type": "code",
   "execution_count": 203,
   "metadata": {},
   "outputs": [],
   "source": [
    "import logging\n",
    "import boto3\n",
    "import json\n",
    "from botocore.exceptions import ClientError"
   ]
  },
  {
   "cell_type": "markdown",
   "metadata": {},
   "source": [
    "#### Set Variables"
   ]
  },
  {
   "cell_type": "code",
   "execution_count": 236,
   "metadata": {},
   "outputs": [],
   "source": [
    "collection_description = 'OpenSearch PoC Collection'\n",
    "collection_name = 'collection-poc-1'\n",
    "collection_policy_string = json.dumps(collection_policy)\n",
    "embed_model_arn = 'arn:aws:bedrock:us-east-1::foundation-model/amazon.titan-embed-text-v1'\n",
    "kb_name = 'knowledge-base-poc-1'\n",
    "kb_description = 'OpenSearch PoC Knowledge Base'\n",
    "security_policy_description = 'OpenSearch Serverless PoC Security Policy'\n",
    "security_policy = {\n",
    "      \"Rules\": [\n",
    "         {\n",
    "            \"ResourceType\":\"collection\",\n",
    "            \"Resource\": [\n",
    "               f\"collection/{collection_name}\"\n",
    "            ]\n",
    "         }\n",
    "      ],\n",
    "}\n",
    "security_policy_string = json.dumps(security_policy)\n",
    "security_policy_name = 'security-policy-poc-1'\n",
    "service_role_arn = 'arn:aws:iam::860100747351:role/service-role/AmazonBedrockExecutionRoleForKnowledgeBase_tqqps'\n",
    "kb_config = {\n",
    "    'type': 'VECTOR',\n",
    "    'vectorKnowledgeBaseConfiguration': {\n",
    "        'embeddingModelArn': embed_model_arn,\n",
    "    }\n",
    "}\n",
    "service_role_arn = 'arn:aws:iam::860100747351:role/service-role/AmazonBedrockExecutionRoleForKnowledgeBase_1nor9'"
   ]
  },
  {
   "cell_type": "markdown",
   "metadata": {},
   "source": [
    "#### Instantiate S3 Client"
   ]
  },
  {
   "cell_type": "code",
   "execution_count": 229,
   "metadata": {},
   "outputs": [],
   "source": [
    "bedrock_agent_client = boto3.client('bedrock-agent')"
   ]
  },
  {
   "cell_type": "markdown",
   "metadata": {},
   "source": [
    "#### Create or Update an S3 Bucket"
   ]
  },
  {
   "cell_type": "code",
   "execution_count": 230,
   "metadata": {},
   "outputs": [],
   "source": [
    "# Attempts to create an S3 bucket. If it already exists, it updates the existing bucket.\n",
    "# ref: https://boto3.amazonaws.com/v1/documentation/api/latest/reference/services/s3/client/create_bucket.html\n",
    "def create_bucket(bucket_name: str, region: str = None):\n",
    "    \"\"\"Create an S3 bucket in a specified region\n",
    "\n",
    "    If a region is not specified, the bucket is created in the S3 default\n",
    "    region (us-east-1).\n",
    "\n",
    "    :param bucket_name: Bucket to create\n",
    "    :param region: String region to create bucket in, e.g., 'us-west-2'\n",
    "    :return: True if bucket created, else False\n",
    "    \"\"\"\n",
    "    try:\n",
    "        if region is None:\n",
    "            s3_client = boto3.client('s3')\n",
    "            s3_client.create_bucket(Bucket=bucket_name)\n",
    "        else:\n",
    "            s3_client = boto3.client('s3', region_name=region)\n",
    "            location = {'LocationConstraint': region}\n",
    "            s3_client.create_bucket(Bucket=bucket_name,\n",
    "                                    CreateBucketConfiguration=location)\n",
    "    except ClientError as e:\n",
    "        logging.error(e)\n",
    "        return False\n",
    "    return True"
   ]
  },
  {
   "cell_type": "code",
   "execution_count": 231,
   "metadata": {},
   "outputs": [
    {
     "data": {
      "text/plain": [
       "True"
      ]
     },
     "execution_count": 231,
     "metadata": {},
     "output_type": "execute_result"
    }
   ],
   "source": [
    "bucket_name = 'bedrock-greg'\n",
    "create_bucket(bucket_name)"
   ]
  },
  {
   "cell_type": "markdown",
   "metadata": {},
   "source": [
    "### List Buckets"
   ]
  },
  {
   "cell_type": "code",
   "execution_count": 232,
   "metadata": {},
   "outputs": [
    {
     "name": "stdout",
     "output_type": "stream",
     "text": [
      "Does the bucket exist?\n",
      "It does! The bucket name is: bedrock-greg\n"
     ]
    }
   ],
   "source": [
    "s3 = boto3.client('s3')\n",
    "response = s3.list_buckets()\n",
    "\n",
    "# Output the bucket names\n",
    "print('Does the bucket exist?')\n",
    "bucket_exists = False\n",
    "for bucket in response['Buckets']:\n",
    "    if bucket['Name'] == bucket_name:\n",
    "        print(f'It does! The bucket name is: {bucket[\"Name\"]}')\n",
    "        bucket_exists = True\n",
    "        break\n",
    "\n",
    "if not bucket_exists:\n",
    "    print(f'Bucket {bucket_name} does not exist.')"
   ]
  },
  {
   "cell_type": "markdown",
   "metadata": {},
   "source": [
    "### Create OpenSearch Serverless Collection"
   ]
  },
  {
   "cell_type": "markdown",
   "metadata": {},
   "source": [
    "#### Instantiate the OpenSearch Serverless Client"
   ]
  },
  {
   "cell_type": "code",
   "execution_count": 233,
   "metadata": {},
   "outputs": [],
   "source": [
    "opensearch_serverless_client = boto3.client('opensearchserverless')"
   ]
  },
  {
   "cell_type": "markdown",
   "metadata": {},
   "source": [
    "#### List Security Policies"
   ]
  },
  {
   "cell_type": "code",
   "execution_count": 237,
   "metadata": {},
   "outputs": [
    {
     "name": "stdout",
     "output_type": "stream",
     "text": [
      "{\n",
      "  \"securityPolicySummaries\": [\n",
      "    {\n",
      "      \"createdDate\": 1701727760876,\n",
      "      \"description\": \"OpenSearch Serverless PoC Security Policy\",\n",
      "      \"lastModifiedDate\": 1701727760876,\n",
      "      \"name\": \"collection-poc-1\",\n",
      "      \"policyVersion\": \"MTcwMTcyNzc2MDg3Nl8x\",\n",
      "      \"type\": \"encryption\"\n",
      "    },\n",
      "    {\n",
      "      \"createdDate\": 1701726208232,\n",
      "      \"description\": \"OpenSearch Serverless Test Security Policy\",\n",
      "      \"lastModifiedDate\": 1701726208232,\n",
      "      \"name\": \"greg-test-security-policy\",\n",
      "      \"policyVersion\": \"MTcwMTcyNjIwODIzMl8x\",\n",
      "      \"type\": \"encryption\"\n",
      "    },\n",
      "    {\n",
      "      \"createdDate\": 1700772392636,\n",
      "      \"lastModifiedDate\": 1700772392636,\n",
      "      \"name\": \"ild-demo-genaichatbot-encryption\",\n",
      "      \"policyVersion\": \"MTcwMDc3MjM5MjYzNl8x\",\n",
      "      \"type\": \"encryption\"\n",
      "    }\n",
      "  ],\n",
      "  \"ResponseMetadata\": {\n",
      "    \"RequestId\": \"9507593f-0923-4423-8658-e4163950a3f0\",\n",
      "    \"HTTPStatusCode\": 200,\n",
      "    \"HTTPHeaders\": {\n",
      "      \"x-amzn-requestid\": \"9507593f-0923-4423-8658-e4163950a3f0\",\n",
      "      \"content-type\": \"application/x-amz-json-1.0\",\n",
      "      \"content-length\": \"615\",\n",
      "      \"date\": \"Wed, 06 Dec 2023 05:10:03 GMT\"\n",
      "    },\n",
      "    \"RetryAttempts\": 0\n",
      "  }\n",
      "}\n"
     ]
    }
   ],
   "source": [
    "response = opensearch_serverless_client.list_security_policies(\n",
    "    type='encryption'\n",
    ")\n",
    "print(json.dumps(response, indent=2))"
   ]
  },
  {
   "cell_type": "code",
   "execution_count": 238,
   "metadata": {},
   "outputs": [
    {
     "ename": "ValidationException",
     "evalue": "An error occurred (ValidationException) when calling the UpdateSecurityPolicy operation: Policy json is invalid, error: [$: should have a minimum of 2 properties]",
     "output_type": "error",
     "traceback": [
      "\u001b[0;31m---------------------------------------------------------------------------\u001b[0m",
      "\u001b[0;31mValidationException\u001b[0m                       Traceback (most recent call last)",
      "\u001b[1;32m/Users/gregwerner/repos/bedrock-kb/creates3.ipynb Cell 19\u001b[0m line \u001b[0;36m9\n\u001b[1;32m      <a href='vscode-notebook-cell:/Users/gregwerner/repos/bedrock-kb/creates3.ipynb#Y104sZmlsZQ%3D%3D?line=0'>1</a>\u001b[0m \u001b[39m# security_policy_response = opensearch_serverless_client.create_security_policy(\u001b[39;00m\n\u001b[1;32m      <a href='vscode-notebook-cell:/Users/gregwerner/repos/bedrock-kb/creates3.ipynb#Y104sZmlsZQ%3D%3D?line=1'>2</a>\u001b[0m \u001b[39m#             description=security_policy_description,\u001b[39;00m\n\u001b[1;32m      <a href='vscode-notebook-cell:/Users/gregwerner/repos/bedrock-kb/creates3.ipynb#Y104sZmlsZQ%3D%3D?line=2'>3</a>\u001b[0m \u001b[39m#             name=collection_name,\u001b[39;00m\n\u001b[0;32m   (...)\u001b[0m\n\u001b[1;32m      <a href='vscode-notebook-cell:/Users/gregwerner/repos/bedrock-kb/creates3.ipynb#Y104sZmlsZQ%3D%3D?line=5'>6</a>\u001b[0m \u001b[39m#         )\u001b[39;00m\n\u001b[1;32m      <a href='vscode-notebook-cell:/Users/gregwerner/repos/bedrock-kb/creates3.ipynb#Y104sZmlsZQ%3D%3D?line=6'>7</a>\u001b[0m \u001b[39m# print(security_policy_response)\u001b[39;00m\n\u001b[0;32m----> <a href='vscode-notebook-cell:/Users/gregwerner/repos/bedrock-kb/creates3.ipynb#Y104sZmlsZQ%3D%3D?line=8'>9</a>\u001b[0m security_policy_response \u001b[39m=\u001b[39m opensearch_serverless_client\u001b[39m.\u001b[39;49mupdate_security_policy(\n\u001b[1;32m     <a href='vscode-notebook-cell:/Users/gregwerner/repos/bedrock-kb/creates3.ipynb#Y104sZmlsZQ%3D%3D?line=9'>10</a>\u001b[0m                 description\u001b[39m=\u001b[39;49msecurity_policy_description,\n\u001b[1;32m     <a href='vscode-notebook-cell:/Users/gregwerner/repos/bedrock-kb/creates3.ipynb#Y104sZmlsZQ%3D%3D?line=10'>11</a>\u001b[0m                 name\u001b[39m=\u001b[39;49mcollection_name,\n\u001b[1;32m     <a href='vscode-notebook-cell:/Users/gregwerner/repos/bedrock-kb/creates3.ipynb#Y104sZmlsZQ%3D%3D?line=11'>12</a>\u001b[0m                 policy\u001b[39m=\u001b[39;49msecurity_policy_string,\n\u001b[1;32m     <a href='vscode-notebook-cell:/Users/gregwerner/repos/bedrock-kb/creates3.ipynb#Y104sZmlsZQ%3D%3D?line=12'>13</a>\u001b[0m                 policyVersion\u001b[39m=\u001b[39;49m\u001b[39m'\u001b[39;49m\u001b[39mMTcwMTcyNzc2MDg3Nl8x\u001b[39;49m\u001b[39m'\u001b[39;49m,\n\u001b[1;32m     <a href='vscode-notebook-cell:/Users/gregwerner/repos/bedrock-kb/creates3.ipynb#Y104sZmlsZQ%3D%3D?line=13'>14</a>\u001b[0m                 \u001b[39mtype\u001b[39;49m\u001b[39m=\u001b[39;49m\u001b[39m'\u001b[39;49m\u001b[39mencryption\u001b[39;49m\u001b[39m'\u001b[39;49m,\n\u001b[1;32m     <a href='vscode-notebook-cell:/Users/gregwerner/repos/bedrock-kb/creates3.ipynb#Y104sZmlsZQ%3D%3D?line=14'>15</a>\u001b[0m             )\n\u001b[1;32m     <a href='vscode-notebook-cell:/Users/gregwerner/repos/bedrock-kb/creates3.ipynb#Y104sZmlsZQ%3D%3D?line=15'>16</a>\u001b[0m \u001b[39mprint\u001b[39m(security_policy_response)\n",
      "File \u001b[0;32m~/.local/share/virtualenvs/bedrock-kb-PjZjYGBI/lib/python3.12/site-packages/botocore/client.py:553\u001b[0m, in \u001b[0;36mClientCreator._create_api_method.<locals>._api_call\u001b[0;34m(self, *args, **kwargs)\u001b[0m\n\u001b[1;32m    549\u001b[0m     \u001b[39mraise\u001b[39;00m \u001b[39mTypeError\u001b[39;00m(\n\u001b[1;32m    550\u001b[0m         \u001b[39mf\u001b[39m\u001b[39m\"\u001b[39m\u001b[39m{\u001b[39;00mpy_operation_name\u001b[39m}\u001b[39;00m\u001b[39m() only accepts keyword arguments.\u001b[39m\u001b[39m\"\u001b[39m\n\u001b[1;32m    551\u001b[0m     )\n\u001b[1;32m    552\u001b[0m \u001b[39m# The \"self\" in this scope is referring to the BaseClient.\u001b[39;00m\n\u001b[0;32m--> 553\u001b[0m \u001b[39mreturn\u001b[39;00m \u001b[39mself\u001b[39;49m\u001b[39m.\u001b[39;49m_make_api_call(operation_name, kwargs)\n",
      "File \u001b[0;32m~/.local/share/virtualenvs/bedrock-kb-PjZjYGBI/lib/python3.12/site-packages/botocore/client.py:1009\u001b[0m, in \u001b[0;36mBaseClient._make_api_call\u001b[0;34m(self, operation_name, api_params)\u001b[0m\n\u001b[1;32m   1005\u001b[0m     error_code \u001b[39m=\u001b[39m error_info\u001b[39m.\u001b[39mget(\u001b[39m\"\u001b[39m\u001b[39mQueryErrorCode\u001b[39m\u001b[39m\"\u001b[39m) \u001b[39mor\u001b[39;00m error_info\u001b[39m.\u001b[39mget(\n\u001b[1;32m   1006\u001b[0m         \u001b[39m\"\u001b[39m\u001b[39mCode\u001b[39m\u001b[39m\"\u001b[39m\n\u001b[1;32m   1007\u001b[0m     )\n\u001b[1;32m   1008\u001b[0m     error_class \u001b[39m=\u001b[39m \u001b[39mself\u001b[39m\u001b[39m.\u001b[39mexceptions\u001b[39m.\u001b[39mfrom_code(error_code)\n\u001b[0;32m-> 1009\u001b[0m     \u001b[39mraise\u001b[39;00m error_class(parsed_response, operation_name)\n\u001b[1;32m   1010\u001b[0m \u001b[39melse\u001b[39;00m:\n\u001b[1;32m   1011\u001b[0m     \u001b[39mreturn\u001b[39;00m parsed_response\n",
      "\u001b[0;31mValidationException\u001b[0m: An error occurred (ValidationException) when calling the UpdateSecurityPolicy operation: Policy json is invalid, error: [$: should have a minimum of 2 properties]"
     ]
    }
   ],
   "source": [
    "# security_policy_response = opensearch_serverless_client.create_security_policy(\n",
    "#             description=security_policy_description,\n",
    "#             name=collection_name,\n",
    "#             policy=security_policy_string,\n",
    "#             type='encryption',\n",
    "#         )\n",
    "# print(security_policy_response)\n",
    "\n",
    "security_policy_response = opensearch_serverless_client.update_security_policy(\n",
    "                description=security_policy_description,\n",
    "                name=collection_name,\n",
    "                policy=security_policy_string,\n",
    "                policyVersion='MTcwMTcyNzc2MDg3Nl8x',\n",
    "                type='encryption',\n",
    "            )\n",
    "print(security_policy_response)"
   ]
  },
  {
   "cell_type": "code",
   "execution_count": null,
   "metadata": {},
   "outputs": [],
   "source": [
    "# Attempts to create a security policy. If it already exists, it updates the existing policy.\n",
    "# For some reason, the docs don't say that the policy name must be unique when updating the policy\n",
    "# but it does.\n",
    "# ref: https://boto3.amazonaws.com/v1/documentation/api/latest/reference/services/opensearchserverless/client/create_security_policy.html\n",
    "# ref: https://boto3.amazonaws.com/v1/documentation/api/latest/reference/services/opensearchserverless/client/update_security_policy.html\n",
    "from botocore.exceptions import ValidationError\n",
    "\n",
    "\n",
    "class SecurityPolicyNotFoundError(Exception):\n",
    "    def __init__(self, collection_name: str):\n",
    "        self.message = json.dumps({\n",
    "            \"error\": f\"No security policy found for {collection_name}. Unable to update security policy.\"\n",
    "        })\n",
    "        super().__init__(self.message)\n",
    "        \n",
    "\n",
    "def create_or_update_security_policy(\n",
    "    description: str,\n",
    "    name: str,\n",
    "    policy: str,\n",
    "    type: str = 'encryption',\n",
    "    ) -> json:\n",
    "    \"\"\"\n",
    "    This function creates or updates a security policy for a given OpenSearch Serverless collection.\n",
    "\n",
    "    Parameters:\n",
    "    collection_name (str): The name of the collection for which the security policy is being created or updated.\n",
    "    policy_string (str): The policy string that defines the security policy.\n",
    "    description (str): A description of the security policy.\n",
    "    type (str, optional): The type of the security policy. Defaults to 'encryption'.\n",
    "\n",
    "    Returns:\n",
    "    json: The response from the create or update security policy operation.\n",
    "    \"\"\"\n",
    "    try:\n",
    "        security_policy_response = opensearch_serverless_client.create_security_policy(\n",
    "            description=description,\n",
    "            name=name,\n",
    "            policy=policy,\n",
    "            type=type,\n",
    "        )\n",
    "        json.dumps(security_policy_response[\"securityPolicyDetail\"], indent=4)\n",
    "        return json.dumps(security_policy_response[\"securityPolicyDetail\"], indent=4)\n",
    "    except opensearch_serverless_client.exceptions.ConflictException:\n",
    "        print(\"Security policy already exists. Updating the existing policy...\")\n",
    "        security_policy_response = opensearch_serverless_client.list_security_policies(\n",
    "            type='encryption'\n",
    "        )\n",
    "        sp_policy_name = None\n",
    "        sp_policy_version = None\n",
    "        for sp_policy in security_policy_response[\"securityPolicySummaries\"]:\n",
    "            if sp_policy['name'] == collection_name:\n",
    "                sp_policy_name = sp_policy['name']\n",
    "                sp_policy_version = sp_policy['policyVersion']\n",
    "                break\n",
    "        if collection_name is None:\n",
    "            raise SecurityPolicyNotFoundError(collection_name)\n",
    "        else:\n",
    "            try:\n",
    "                security_policy_response = opensearch_serverless_client.update_security_policy(\n",
    "                    description=description,\n",
    "                    name=sp_policy_name,\n",
    "                    policy=security_policy_string,\n",
    "                    policyVersion=sp_policy_version,\n",
    "                    type=type,\n",
    "                )\n",
    "            except:\n",
    "                raise ValidationError(\"Unable to update security policy.\")\n",
    "            return json.dumps(security_policy_response[\"securityPolicyDetail\"], indent=4)\n",
    "\n",
    "create_or_update_security_policy_response = create_or_update_security_policy(\n",
    "    security_policy_description, collection_name, security_policy_string)\n",
    "print(json.dumps(create_or_update_security_policy_response, indent=4))"
   ]
  },
  {
   "cell_type": "markdown",
   "metadata": {},
   "source": [
    "#### Verify OpenSearch Serverless Security Policy Details"
   ]
  },
  {
   "cell_type": "markdown",
   "metadata": {},
   "source": [
    "> This step is optional, since the code above will print the response which includes the security policy response after attempting to create or update an existing security policy."
   ]
  },
  {
   "cell_type": "code",
   "execution_count": 214,
   "metadata": {},
   "outputs": [
    {
     "ename": "ResourceNotFoundException",
     "evalue": "An error occurred (ResourceNotFoundException) when calling the GetSecurityPolicy operation: Policy with name security-policy-poc-1 and type encryption is not found",
     "output_type": "error",
     "traceback": [
      "\u001b[0;31m---------------------------------------------------------------------------\u001b[0m",
      "\u001b[0;31mResourceNotFoundException\u001b[0m                 Traceback (most recent call last)",
      "\u001b[1;32m/Users/gregwerner/repos/bedrock-kb/creates3.ipynb Cell 22\u001b[0m line \u001b[0;36m3\n\u001b[1;32m      <a href='vscode-notebook-cell:/Users/gregwerner/repos/bedrock-kb/creates3.ipynb#X33sZmlsZQ%3D%3D?line=0'>1</a>\u001b[0m \u001b[39mimport\u001b[39;00m \u001b[39mjson\u001b[39;00m\n\u001b[0;32m----> <a href='vscode-notebook-cell:/Users/gregwerner/repos/bedrock-kb/creates3.ipynb#X33sZmlsZQ%3D%3D?line=2'>3</a>\u001b[0m security_policy_response \u001b[39m=\u001b[39m opensearch_serverless_client\u001b[39m.\u001b[39;49mget_security_policy(\n\u001b[1;32m      <a href='vscode-notebook-cell:/Users/gregwerner/repos/bedrock-kb/creates3.ipynb#X33sZmlsZQ%3D%3D?line=3'>4</a>\u001b[0m     name\u001b[39m=\u001b[39;49msecurity_policy_name,\n\u001b[1;32m      <a href='vscode-notebook-cell:/Users/gregwerner/repos/bedrock-kb/creates3.ipynb#X33sZmlsZQ%3D%3D?line=4'>5</a>\u001b[0m     \u001b[39mtype\u001b[39;49m\u001b[39m=\u001b[39;49m\u001b[39m'\u001b[39;49m\u001b[39mencryption\u001b[39;49m\u001b[39m'\u001b[39;49m\n\u001b[1;32m      <a href='vscode-notebook-cell:/Users/gregwerner/repos/bedrock-kb/creates3.ipynb#X33sZmlsZQ%3D%3D?line=5'>6</a>\u001b[0m )\n\u001b[1;32m      <a href='vscode-notebook-cell:/Users/gregwerner/repos/bedrock-kb/creates3.ipynb#X33sZmlsZQ%3D%3D?line=6'>7</a>\u001b[0m \u001b[39mprint\u001b[39m(json\u001b[39m.\u001b[39mdumps(security_policy_response[\u001b[39m\"\u001b[39m\u001b[39msecurityPolicyDetail\u001b[39m\u001b[39m\"\u001b[39m], indent\u001b[39m=\u001b[39m\u001b[39m4\u001b[39m))\n",
      "File \u001b[0;32m~/.local/share/virtualenvs/bedrock-kb-PjZjYGBI/lib/python3.12/site-packages/botocore/client.py:553\u001b[0m, in \u001b[0;36mClientCreator._create_api_method.<locals>._api_call\u001b[0;34m(self, *args, **kwargs)\u001b[0m\n\u001b[1;32m    549\u001b[0m     \u001b[39mraise\u001b[39;00m \u001b[39mTypeError\u001b[39;00m(\n\u001b[1;32m    550\u001b[0m         \u001b[39mf\u001b[39m\u001b[39m\"\u001b[39m\u001b[39m{\u001b[39;00mpy_operation_name\u001b[39m}\u001b[39;00m\u001b[39m() only accepts keyword arguments.\u001b[39m\u001b[39m\"\u001b[39m\n\u001b[1;32m    551\u001b[0m     )\n\u001b[1;32m    552\u001b[0m \u001b[39m# The \"self\" in this scope is referring to the BaseClient.\u001b[39;00m\n\u001b[0;32m--> 553\u001b[0m \u001b[39mreturn\u001b[39;00m \u001b[39mself\u001b[39;49m\u001b[39m.\u001b[39;49m_make_api_call(operation_name, kwargs)\n",
      "File \u001b[0;32m~/.local/share/virtualenvs/bedrock-kb-PjZjYGBI/lib/python3.12/site-packages/botocore/client.py:1009\u001b[0m, in \u001b[0;36mBaseClient._make_api_call\u001b[0;34m(self, operation_name, api_params)\u001b[0m\n\u001b[1;32m   1005\u001b[0m     error_code \u001b[39m=\u001b[39m error_info\u001b[39m.\u001b[39mget(\u001b[39m\"\u001b[39m\u001b[39mQueryErrorCode\u001b[39m\u001b[39m\"\u001b[39m) \u001b[39mor\u001b[39;00m error_info\u001b[39m.\u001b[39mget(\n\u001b[1;32m   1006\u001b[0m         \u001b[39m\"\u001b[39m\u001b[39mCode\u001b[39m\u001b[39m\"\u001b[39m\n\u001b[1;32m   1007\u001b[0m     )\n\u001b[1;32m   1008\u001b[0m     error_class \u001b[39m=\u001b[39m \u001b[39mself\u001b[39m\u001b[39m.\u001b[39mexceptions\u001b[39m.\u001b[39mfrom_code(error_code)\n\u001b[0;32m-> 1009\u001b[0m     \u001b[39mraise\u001b[39;00m error_class(parsed_response, operation_name)\n\u001b[1;32m   1010\u001b[0m \u001b[39melse\u001b[39;00m:\n\u001b[1;32m   1011\u001b[0m     \u001b[39mreturn\u001b[39;00m parsed_response\n",
      "\u001b[0;31mResourceNotFoundException\u001b[0m: An error occurred (ResourceNotFoundException) when calling the GetSecurityPolicy operation: Policy with name security-policy-poc-1 and type encryption is not found"
     ]
    }
   ],
   "source": [
    "import json\n",
    "\n",
    "security_policy_response = opensearch_serverless_client.get_security_policy(\n",
    "    name=security_policy_name,\n",
    "    type='encryption'\n",
    ")\n",
    "print(json.dumps(security_policy_response[\"securityPolicyDetail\"], indent=4))"
   ]
  },
  {
   "cell_type": "markdown",
   "metadata": {},
   "source": [
    "#### Create OpenSearch Serverless Collection"
   ]
  },
  {
   "cell_type": "code",
   "execution_count": 213,
   "metadata": {},
   "outputs": [
    {
     "ename": "AttributeError",
     "evalue": "'OpenSearchServiceServerless' object has no attribute 'get_storage_configuration'",
     "output_type": "error",
     "traceback": [
      "\u001b[0;31m---------------------------------------------------------------------------\u001b[0m",
      "\u001b[0;31mAttributeError\u001b[0m                            Traceback (most recent call last)",
      "\u001b[1;32m/Users/gregwerner/repos/bedrock-kb/creates3.ipynb Cell 24\u001b[0m line \u001b[0;36m2\n\u001b[1;32m      <a href='vscode-notebook-cell:/Users/gregwerner/repos/bedrock-kb/creates3.ipynb#X50sZmlsZQ%3D%3D?line=0'>1</a>\u001b[0m \u001b[39m# Get the storage config for the collection\u001b[39;00m\n\u001b[0;32m----> <a href='vscode-notebook-cell:/Users/gregwerner/repos/bedrock-kb/creates3.ipynb#X50sZmlsZQ%3D%3D?line=1'>2</a>\u001b[0m storage_config_response \u001b[39m=\u001b[39m opensearch_serverless_client\u001b[39m.\u001b[39;49mget_storage_configuration(\n\u001b[1;32m      <a href='vscode-notebook-cell:/Users/gregwerner/repos/bedrock-kb/creates3.ipynb#X50sZmlsZQ%3D%3D?line=2'>3</a>\u001b[0m     collectionId\u001b[39m=\u001b[39mcollection_name\n\u001b[1;32m      <a href='vscode-notebook-cell:/Users/gregwerner/repos/bedrock-kb/creates3.ipynb#X50sZmlsZQ%3D%3D?line=3'>4</a>\u001b[0m )\n",
      "File \u001b[0;32m~/.local/share/virtualenvs/bedrock-kb-PjZjYGBI/lib/python3.12/site-packages/botocore/client.py:906\u001b[0m, in \u001b[0;36mBaseClient.__getattr__\u001b[0;34m(self, item)\u001b[0m\n\u001b[1;32m    903\u001b[0m \u001b[39mif\u001b[39;00m event_response \u001b[39mis\u001b[39;00m \u001b[39mnot\u001b[39;00m \u001b[39mNone\u001b[39;00m:\n\u001b[1;32m    904\u001b[0m     \u001b[39mreturn\u001b[39;00m event_response\n\u001b[0;32m--> 906\u001b[0m \u001b[39mraise\u001b[39;00m \u001b[39mAttributeError\u001b[39;00m(\n\u001b[1;32m    907\u001b[0m     \u001b[39mf\u001b[39m\u001b[39m\"\u001b[39m\u001b[39m'\u001b[39m\u001b[39m{\u001b[39;00m\u001b[39mself\u001b[39m\u001b[39m.\u001b[39m\u001b[39m__class__\u001b[39m\u001b[39m.\u001b[39m\u001b[39m__name__\u001b[39m\u001b[39m}\u001b[39;00m\u001b[39m'\u001b[39m\u001b[39m object has no attribute \u001b[39m\u001b[39m'\u001b[39m\u001b[39m{\u001b[39;00mitem\u001b[39m}\u001b[39;00m\u001b[39m'\u001b[39m\u001b[39m\"\u001b[39m\n\u001b[1;32m    908\u001b[0m )\n",
      "\u001b[0;31mAttributeError\u001b[0m: 'OpenSearchServiceServerless' object has no attribute 'get_storage_configuration'"
     ]
    }
   ],
   "source": [
    "# Get the storage config for the collection\n",
    "storage_config_response = opensearch_serverless_client.get_storage_configuration(\n",
    "    collectionId=collection_name\n",
    ")"
   ]
  },
  {
   "cell_type": "code",
   "execution_count": 225,
   "metadata": {},
   "outputs": [
    {
     "name": "stdout",
     "output_type": "stream",
     "text": [
      "Creating a new collection...\n",
      "Collection already exists. Updating the collection...\n",
      "{'arn': 'arn:aws:aoss:us-east-1:860100747351:collection/s217foqao3o7w57gptla', 'createdDate': 1701733069592, 'description': 'OpenSearch PoC Collection', 'id': 's217foqao3o7w57gptla', 'lastModifiedDate': 1701838492262, 'name': 'collection-poc-1', 'status': 'ACTIVE', 'type': 'VECTORSEARCH'}\n"
     ]
    }
   ],
   "source": [
    "# Attempts to create a security policy. If it already exists, it updates the existing policy.\n",
    "# Only collection descriptions can be updated.\n",
    "# ref: https://boto3.amazonaws.com/v1/documentation/api/latest/reference/services/opensearchserverless/client/create_collection.html\n",
    "# ref: https://boto3.amazonaws.com/v1/documentation/api/latest/reference/services/opensearchserverless/client/update_collection.html\n",
    "\n",
    "# Declare the collection not found error\n",
    "class CollectionNotFoundError(Exception):\n",
    "    def __init__(self, collection_name: str):\n",
    "        self.message = json.dumps({\n",
    "            \"error\": f\"No collection found with name {collection_name}. Unable to update collection.\"\n",
    "        })\n",
    "        super().__init__(self.message)\n",
    "\n",
    "\n",
    "def create_or_update_collection(\n",
    "    description: str,\n",
    "    name: str,\n",
    "    stand_by_replicas: str = 'DISABLED',\n",
    "    type: str = 'VECTORSEARCH',\n",
    "    ) -> json:\n",
    "    \"\"\"\n",
    "    This function creates or updates an OpenSearch Serverless collection.\n",
    "\n",
    "    Parameters:\n",
    "    description (str): The description of the collection.\n",
    "    name (str): The name of the collection.\n",
    "    stand_by_replicas (str, optional): The standby replica setting for the collection. Defaults to 'DISABLED'.\n",
    "    type (str, optional): The type of the collection. Defaults to 'VECTORSEARCH'.\n",
    "\n",
    "    Returns:\n",
    "    json: The response from the create or update collection operation.\n",
    "    \"\"\"\n",
    "    try:\n",
    "        print(\"Creating a new collection...\")\n",
    "        collection_response = opensearch_serverless_client.create_collection(\n",
    "            description=description,\n",
    "            name=name,\n",
    "            standbyReplicas=stand_by_replicas,\n",
    "            type=type,\n",
    "        )\n",
    "        return json.dumps(collection_response, indent=4)\n",
    "    except opensearch_serverless_client.exceptions.ConflictException:\n",
    "        print(\"Collection already exists. Updating the collection...\")\n",
    "        collection_response = opensearch_serverless_client.batch_get_collection(\n",
    "            names=[collection_name],\n",
    "        )\n",
    "        collection_id = None\n",
    "        for collection in collection_response[\"collectionDetails\"]:\n",
    "            if collection['name'] == collection_name:\n",
    "                collection_id = collection['id']\n",
    "                break\n",
    "        if collection_id is None:\n",
    "            raise CollectionNotFoundError(collection_name)\n",
    "        else:\n",
    "            collection_response = opensearch_serverless_client.update_collection(\n",
    "                description=description,\n",
    "                id=collection_id,\n",
    "            )\n",
    "            return json.dumps(collection_response[\"updateCollectionDetail\"], indent=4)\n",
    "\n",
    "create_or_update_collection_response = create_or_update_collection(collection_description, collection_name)\n",
    "print(json.loads(create_or_update_collection_response))"
   ]
  },
  {
   "cell_type": "markdown",
   "metadata": {},
   "source": [
    "#### Create Network Access"
   ]
  },
  {
   "cell_type": "code",
   "execution_count": null,
   "metadata": {},
   "outputs": [],
   "source": [
    "response = opensearch_serverless_client.create_access_policy(\n",
    "    clientToken='string',\n",
    "    description='string',\n",
    "    name='string',\n",
    "    policy='string',\n",
    "    type='data'\n",
    ")\n",
    "\n",
    "# Attempts to create a security policy. If it already exists, it updates the existing policy.\n",
    "# Only collection descriptions can be updated.\n",
    "# ref: https://boto3.amazonaws.com/v1/documentation/api/latest/reference/services/opensearchserverless/client/create_collection.html\n",
    "# ref: https://boto3.amazonaws.com/v1/documentation/api/latest/reference/services/opensearchserverless/client/update_collection.html\n",
    "\n",
    "# Declare the collection not found error\n",
    "class CollectionAcccessFoundError(Exception):\n",
    "    def __init__(self, collection_name: str):\n",
    "        self.message = json.dumps({\n",
    "            \"error\": f\"No access found for {collection_name}. Unable to update the access for the collection.\"\n",
    "        })\n",
    "        super().__init__(self.message)\n",
    "\n",
    "\n",
    "def create_or_update_access(\n",
    "    description: str,\n",
    "    name: str,\n",
    "    policy: str,\n",
    "    type: str = 'data',\n",
    "    ) -> json:\n",
    "    \"\"\"\n",
    "    This function creates or updates an OpenSearch Serverless access policy for a collection.\n",
    "    Access policies limit access to collections and the resources within them, and allow a \n",
    "    user to access that data irrespective of the access mechanism or network source.\n",
    "\n",
    "    Parameters:\n",
    "    description (str): The description of the collection.\n",
    "    name (str): The name of the collection.\n",
    "    policy (str): The policy access for the collection. Defaults to 'DISABLED'.\n",
    "    type (str, optional): The type of the access policy. Defaults to 'data'.\n",
    "\n",
    "    Returns:\n",
    "    json: The response from the create or update data access policy operation.\n",
    "    \"\"\"\n",
    "    try:\n",
    "        print(\"Creating a new data access policy...\")\n",
    "        collection_response = opensearch_serverless_client.create_collection(\n",
    "            description=description,\n",
    "            name=name,\n",
    "            standbyReplicas=stand_by_replicas,\n",
    "            type=type,\n",
    "        )\n",
    "        return json.dumps(collection_response, indent=4)\n",
    "    except opensearch_serverless_client.exceptions.ConflictException:\n",
    "        print(\"Collection already exists. Updating the collection...\")\n",
    "        collection_response = opensearch_serverless_client.batch_get_collection(\n",
    "            names=[collection_name],\n",
    "        )\n",
    "        collection_id = None\n",
    "        for collection in collection_response[\"collectionDetails\"]:\n",
    "            if collection['name'] == collection_name:\n",
    "                collection_id = collection['id']\n",
    "                break\n",
    "        if collection_id is None:\n",
    "            raise CollectionNetworkAcccessFoundError(collection_name)\n",
    "        else:\n",
    "            collection_response = opensearch_serverless_client.update_collection(\n",
    "                description=description,\n",
    "                id=collection_id,\n",
    "            )\n",
    "            return json.dumps(collection_response[\"updateCollectionDetail\"], indent=4)\n",
    "\n",
    "create_or_update_collection_response = create_or_update_collection(collection_description, collection_name)\n",
    "print(json.loads(create_or_update_collection_response))"
   ]
  },
  {
   "cell_type": "markdown",
   "metadata": {},
   "source": [
    "### Create a Bedrock Knowledge Base"
   ]
  },
  {
   "cell_type": "markdown",
   "metadata": {},
   "source": [
    "> **NOTE**: The storage configuration for the knowledge base requires the collection ARN so is defined after creating or updating the collection. The object is defined here for reference.\n",
    "\n",
    "```python\n",
    "storageConfiguration = {\n",
    "    'type': 'OPENSEARCH_SERVERLESS',\n",
    "    'opensearchServerlessConfiguration': {\n",
    "        'collectionArn': 'string',\n",
    "        'vectorIndexName': 'string',\n",
    "        'fieldMapping': {\n",
    "            'vectorField': 'string',\n",
    "            'textField': 'string',\n",
    "            'metadataField': 'string'\n",
    "        }\n",
    "    },\n",
    "},\n",
    "```"
   ]
  },
  {
   "cell_type": "markdown",
   "metadata": {},
   "source": [
    "#### Set variables needed for the Storage Configuration"
   ]
  },
  {
   "cell_type": "code",
   "execution_count": null,
   "metadata": {},
   "outputs": [],
   "source": [
    "collection_arn = create_or_update_collection_response[\"arn\"]\n",
    "vector_index_name = "
   ]
  },
  {
   "cell_type": "code",
   "execution_count": 148,
   "metadata": {},
   "outputs": [
    {
     "name": "stdout",
     "output_type": "stream",
     "text": [
      "Creating a new collection...\n",
      "Collection already exists. Updating the collection...\n",
      "\"{\\n    \\\"arn\\\": \\\"arn:aws:aoss:us-east-1:860100747351:collection/s217foqao3o7w57gptla\\\",\\n    \\\"createdDate\\\": 1701733069592,\\n    \\\"description\\\": \\\"OpenSearch PoC Collection\\\",\\n    \\\"id\\\": \\\"s217foqao3o7w57gptla\\\",\\n    \\\"lastModifiedDate\\\": 1701815722015,\\n    \\\"name\\\": \\\"collection-poc-1\\\",\\n    \\\"status\\\": \\\"ACTIVE\\\",\\n    \\\"type\\\": \\\"VECTORSEARCH\\\"\\n}\"\n"
     ]
    }
   ],
   "source": [
    "\n",
    "# Attempts to create a knowledge base. If it already exists, it updates the existing knowledge base.\n",
    "# Note: The collection must be in the ACTIVE state before you can create a knowledge base.\n",
    "# ref: https://boto3.amazonaws.com/v1/documentation/api/latest/reference/services/opensearchserverless/client/create_knowledge_base.html\n",
    "# ref: https://boto3.amazonaws.com/v1/documentation/api/latest/reference/services/bedrock-agent/client/update_knowledge_base.html\n",
    "\n",
    "# Hard code role arn for simplicity. This role is created by the OpenSearch Serverless console. We could probably create this role\n",
    "# using the Terraform setup in the Infrastructure as Code repo.\n",
    "role_arn = 'arn:aws:iam::860100747351:role/service-role/AmazonBedrockExecutionRoleForKnowledgeBase_1nor9'\n",
    "\n",
    "# Declare the knowledge base not found error\n",
    "class KnowledgeBaseNotFoundError(Exception):\n",
    "    def __init__(self, kb_name):\n",
    "        self.message = json.dumps({\n",
    "            \"error\": f\"No knowledge base found for {name}. Unable to update security policy.\"\n",
    "        })\n",
    "        super().__init__(self.message)\n",
    "\n",
    "\n",
    "def create_or_update_kb(\n",
    "    name: str,\n",
    "    description: str,\n",
    "    role_arn: str,\n",
    "    kb_config: dict,\n",
    "    storage_config: dict,\n",
    "    ) -> json:\n",
    "    \"\"\"\n",
    "    \"\"\"\n",
    "    try:\n",
    "        kb_response = opensearch_serverless_client.create_knowledge_base(\n",
    "            name=name,\n",
    "            description=description,\n",
    "            roleArn=role_arn,\n",
    "            knowledgeBaseConfiguration=kb_config,\n",
    "            storageConfiguration=storage_config,\n",
    "        )\n",
    "        return json.dumps(kb_response, indent=4)\n",
    "    except opensearch_serverless_client.exceptions.ConflictException:\n",
    "        print(\"Knowledge base already exists. Updating the knowledge base...\")\n",
    "        kb_response = opensearch_serverless_client.get_knowledge_base(\n",
    "            names=[name],\n",
    "        )\n",
    "        kb_id = None\n",
    "        for kb in kb_response[\"knowledgeBase\"]:\n",
    "            if kb['name'] == kb_name:\n",
    "                kb_id = kb['knowledgeBaseId']\n",
    "                break\n",
    "        if kb_id is None:\n",
    "            raise CollectionNotFoundError(kb_name)\n",
    "        else:\n",
    "            kb_response = opensearch_serverless_client.update_knowledge_base(\n",
    "                knowledgeBaseId=kb_id,\n",
    "                name=kb_name,\n",
    "                description=description,\n",
    "                roleArn=role_arn,\n",
    "                knowledgeBaseConfiguration=kb_config,\n",
    "                storageConfiguration=storage_config,\n",
    "            )\n",
    "            return json.dumps(kb_response[\"knowledgeBase\"], indent=4)\n",
    "\n",
    "create_or_update_kb_response = create_or_update_kb(kb_name, kb_description, service_role_arn, kb_config, storage_config)\n",
    "print(json.dumps(create_or_update_kb_response, indent=4))"
   ]
  }
 ],
 "metadata": {
  "kernelspec": {
   "display_name": "bedrock-kb-PjZjYGBI",
   "language": "python",
   "name": "python3"
  },
  "language_info": {
   "codemirror_mode": {
    "name": "ipython",
    "version": 3
   },
   "file_extension": ".py",
   "mimetype": "text/x-python",
   "name": "python",
   "nbconvert_exporter": "python",
   "pygments_lexer": "ipython3",
   "version": "3.12.0"
  }
 },
 "nbformat": 4,
 "nbformat_minor": 2
}
