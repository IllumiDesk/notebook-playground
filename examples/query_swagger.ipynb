{
 "cells": [
  {
   "attachments": {},
   "cell_type": "markdown",
   "metadata": {},
   "source": [
    "## Query a swagger yaml file and get answers about the API\n",
    "\n",
    "Why? Because I want to know what the API is about without having to read the whole yaml file!"
   ]
  },
  {
   "cell_type": "code",
   "execution_count": 3,
   "metadata": {},
   "outputs": [],
   "source": [
    "import os\n",
    "import yaml\n",
    "\n",
    "# import langchain dependencies\n",
    "from langchain.agents import create_json_agent, AgentExecutor\n",
    "from langchain.agents.agent_toolkits import JsonToolkit\n",
    "from langchain.chains import LLMChain\n",
    "from langchain.llms.openai import OpenAI\n",
    "from langchain.requests import TextRequestsWrapper\n",
    "from langchain.tools.json.tool import JsonSpec\n",
    "\n",
    "# load swagger.yaml from the examples folder\n",
    "with open(\"../files/swagger.yaml\") as f:\n",
    "    data = yaml.load(f, Loader=yaml.FullLoader)\n",
    "json_spec = JsonSpec(dict_=data, max_value_length=4000)\n",
    "json_toolkit = JsonToolkit(spec=json_spec)\n",
    "\n",
    "json_agent_executor = create_json_agent(\n",
    "    llm=OpenAI(temperature=0), toolkit=json_toolkit, verbose=True\n",
    ")"
   ]
  },
  {
   "cell_type": "code",
   "execution_count": 4,
   "metadata": {},
   "outputs": [
    {
     "name": "stdout",
     "output_type": "stream",
     "text": [
      "\n",
      "\n",
      "\u001b[1m> Entering new  chain...\u001b[0m\n",
      "\u001b[32;1m\u001b[1;3mAction: json_spec_list_keys\n",
      "Action Input: data\u001b[0m\n",
      "Observation: \u001b[36;1m\u001b[1;3m['swagger', 'info', 'host', 'schemes', 'basePath', 'consumes', 'produces', 'securityDefinitions', 'security', 'paths', 'definitions']\u001b[0m\n",
      "Thought:\u001b[32;1m\u001b[1;3m I should look at the paths key to see what endpoints exist\n",
      "Action: json_spec_list_keys\n",
      "Action Input: data[\"paths\"]\u001b[0m\n",
      "Observation: \u001b[36;1m\u001b[1;3m['/accounts/auth0/authorization-complete/', '/accounts/auth0/authorization-url/', '/accounts/auth0/send-change-password-email/', '/accounts/auth0/send-verification-email/', '/accounts/avatar/', '/accounts/change-password/', '/accounts/confirm-reset-password/', '/accounts/create-test-user/', '/accounts/delete-test-user/', '/accounts/forgot-subdomain/', '/accounts/me/', '/accounts/me/delete/', '/accounts/preferences/notification/', '/accounts/register/', '/accounts/send-verification-email/', '/accounts/verify-email/', '/campuses/', '/campuses/auth-info/', '/campuses/generate-slug/', '/campuses/invitation-accept/', '/campuses/public/campuses/{campus_slug}/', '/campuses/public/campuses/{campus_slug}/courses/', '/campuses/validate-slug/', '/campuses/{campus_slug}/', '/campuses/{campus_slug}/auth0/authorization-url/', '/campuses/{campus_slug}/base-images/', '/campuses/{campus_slug}/courses/', '/campuses/{campus_slug}/courses/generate-slug/', '/campuses/{campus_slug}/courses/search/', '/campuses/{campus_slug}/custom-domain/', '/campuses/{campus_slug}/custom-domain/verify/', '/campuses/{campus_slug}/custom-style/', '/campuses/{campus_slug}/email-settings/', '/campuses/{campus_slug}/invitations-by-token/{token}/', '/campuses/{campus_slug}/login/', '/campuses/{campus_slug}/lti-integrations/', '/campuses/{campus_slug}/lti-integrations/{integration_uuid}/', '/campuses/{campus_slug}/members/', '/campuses/{campus_slug}/members/{user_uuid}/', '/campuses/{campus_slug}/notifications/', '/campuses/{campus_slug}/notifications/count/', '/campuses/{campus_slug}/notifications/mark-read/', '/campuses/{campus_slug}/reset-password/', '/campuses/{campus_slug}/send-test-email/', '/campuses/{campus_slug}/subscriptions/info/', '/campuses/{campus_slug}/subscriptions/subscribe/', '/campuses/{campus_slug}/subscriptions/surplus-instructors/', '/campuses/{campus_slug}/templates/', '/campuses/{campus_slug}/user-invitations/', '/campuses/{campus_slug}/user-invitations/{id}/', '/campuses/{campus_slug}/user-invitations/{id}/resend/', '/chats/ai-chat/messages/', '/chats/ai-chat/messages/{message_uuid}/regenerate/', '/courses/activity-images/', '/courses/chat-completion/', '/courses/chat-completion/favorites/', '/courses/chat-completion/favorites/{chat_id}/', '/courses/chat-completion/recents/', '/courses/chat-completion/recents/{chat_id}/', '/courses/invitation-accept/', '/courses/validate-slug/', '/courses/{course_slug}/', '/courses/{course_slug}/activities/', '/courses/{course_slug}/activities/import/', '/courses/{course_slug}/activities/{activity_slug}/', '/courses/{course_slug}/activities/{activity_slug}/attachments-by-chunked/', '/courses/{course_slug}/activities/{activity_slug}/attachments/', '/courses/{course_slug}/activities/{activity_slug}/attachments/{attachment_uuid}/', '/courses/{course_slug}/activities/{activity_slug}/cells/', '/courses/{course_slug}/activities/{activity_slug}/cells/execution-state/', '/courses/{course_slug}/activities/{activity_slug}/copy/', '/courses/{course_slug}/activities/{activity_slug}/export/', '/courses/{course_slug}/activities/{activity_slug}/generate-unittests/', '/courses/{course_slug}/activities/{activity_slug}/publish/', '/courses/{course_slug}/activities/{activity_slug}/submissions/', '/courses/{course_slug}/activities/{activity_slug}/sync-grades/', '/courses/{course_slug}/activities/{activity_slug}/unpublish/', '/courses/{course_slug}/activities/{activity_slug}/validate/', '/courses/{course_slug}/activities/{activity_slug}/validation-results/', '/courses/{course_slug}/chunked-upload-complete/', '/courses/{course_slug}/chunked-upload/', '/courses/{course_slug}/comments/', '/courses/{course_slug}/comments/{comment_uuid}/', '/courses/{course_slug}/comments/{comment_uuid}/reactions/', '/courses/{course_slug}/discussions/', '/courses/{course_slug}/discussions/{discussion_uuid}/', '/courses/{course_slug}/discussions/{discussion_uuid}/reactions/', '/courses/{course_slug}/import-repository/', '/courses/{course_slug}/invitations-by-token/{token}/', '/courses/{course_slug}/invitations/', '/courses/{course_slug}/invitations/{id}/resend/', '/courses/{course_slug}/invitations/{uuid}/', '/courses/{course_slug}/lessons/', '/courses/{course_slug}/lessons/search/', '/courses/{course_slug}/lessons/{lesson_uuid}/', '/courses/{course_slug}/participants/', '/courses/{course_slug}/participants/mention-search/', '/courses/{course_slug}/participants/{user_uuid}/', '/courses/{course_slug}/public/', '/courses/{course_slug}/publish/', '/courses/{course_slug}/submissions/', '/courses/{course_slug}/submissions/autograde/', '/courses/{course_slug}/submissions/{submission_uuid}/', '/courses/{course_slug}/submissions/{submission_uuid}/allow-resubmission/', '/courses/{course_slug}/submissions/{submission_uuid}/autograde/', '/courses/{course_slug}/submissions/{submission_uuid}/cell-submissions/', '/courses/{course_slug}/submissions/{submission_uuid}/cell-submissions/execution-state/', '/courses/{course_slug}/submissions/{submission_uuid}/cell-submissions/{cell_submission_uuid}/', '/courses/{course_slug}/submissions/{submission_uuid}/complete/', '/courses/{course_slug}/submissions/{submission_uuid}/mark-viewed/', '/courses/{course_slug}/submissions/{submission_uuid}/submit/', '/courses/{course_slug}/submissions/{submission_uuid}/validate/', '/courses/{course_slug}/submissions/{submission_uuid}/validation-results/', '/courses/{course_slug}/threads/', '/courses/{course_slug}/threads/{thread_uuid}/', '/courses/{course_slug}/threads/{thread_uuid}/reactions/', '/courses/{course_slug}/unpublish/', '/info/choices/', '/lti/complete-launch/', '/lti/config/{issuer}/', '/notifications/', '/notifications/count/', '/notifications/mark-read/', '/payments/invoice-url/', '/payments/stripe-checkout-session/', '/payments/stripe-customer-portal-session/', '/subscriptions/plans/', '/worker-gateway/check-history/', '/worker-gateway/execute-code/', '/worker-gateway/execute-codes/', '/worker-gateway/restart/', '/worker-gateway/start/', '/worker-gateway/stop-worker/all/', '/worker-gateway/stop-worker/{worker_id}/', '/worker-gateway/stop/', '/worker-gateway/workers/', '/worker-gateway/workers/status/{activity_id}/', '/worker-gateway/workers/{worker_id}/status/']\u001b[0m\n",
      "Thought:\u001b[32;1m\u001b[1;3m I should look at the /courses/chat-completion/ endpoint to see what parameters are required\n",
      "Action: json_spec_list_keys\n",
      "Action Input: data[\"paths\"][\"/courses/chat-completion/\"][\"post\"]\u001b[0m\n",
      "Observation: \u001b[36;1m\u001b[1;3m['operationId', 'description', 'parameters', 'responses', 'tags']\u001b[0m\n",
      "Thought:\u001b[32;1m\u001b[1;3m I should look at the parameters key to see what parameters are required\n",
      "Action: json_spec_list_keys\n",
      "Action Input: data[\"paths\"][\"/courses/chat-completion/\"][\"post\"][\"parameters\"]\u001b[0m\n",
      "Observation: \u001b[36;1m\u001b[1;3mValueError('Value at path `data[\"paths\"][\"/courses/chat-completion/\"][\"post\"][\"parameters\"]` is not a dict, get the value directly.')\u001b[0m\n",
      "Thought:\u001b[32;1m\u001b[1;3m I should get the value of the parameters key to see what parameters are required\n",
      "Action: json_spec_get_value\n",
      "Action Input: data[\"paths\"][\"/courses/chat-completion/\"][\"post\"][\"parameters\"]\u001b[0m\n",
      "Observation: \u001b[33;1m\u001b[1;3m[{'name': 'data', 'in': 'body', 'required': True, 'schema': {'$ref': '#/definitions/ChatCompletionRequestCreate'}}]\u001b[0m\n",
      "Thought:\u001b[32;1m\u001b[1;3m I should look at the ChatCompletionRequestCreate definition to see what parameters are required\n",
      "Action: json_spec_list_keys\n",
      "Action Input: data[\"definitions\"][\"ChatCompletionRequestCreate\"]\u001b[0m\n",
      "Observation: \u001b[36;1m\u001b[1;3m['required', 'type', 'properties']\u001b[0m\n",
      "Thought:\u001b[32;1m\u001b[1;3m I should look at the required key to see what parameters are required\n",
      "Action: json_spec_get_value\n",
      "Action Input: data[\"definitions\"][\"ChatCompletionRequestCreate\"][\"required\"]\u001b[0m\n",
      "Observation: \u001b[33;1m\u001b[1;3m['question']\u001b[0m\n",
      "Thought:\u001b[32;1m\u001b[1;3m I now know the final answer\n",
      "Final Answer: The required parameters in the request body to the /courses/chat-completion/ endpoint are 'question'.\u001b[0m\n",
      "\n",
      "\u001b[1m> Finished chain.\u001b[0m\n"
     ]
    },
    {
     "data": {
      "text/plain": [
       "\"The required parameters in the request body to the /courses/chat-completion/ endpoint are 'question'.\""
      ]
     },
     "execution_count": 4,
     "metadata": {},
     "output_type": "execute_result"
    }
   ],
   "source": [
    "json_agent_executor.run(\n",
    "    \"What are the required parameters in the request body to the /courses/chat-completion/ endpoint?\"\n",
    ")"
   ]
  }
 ],
 "metadata": {
  "kernelspec": {
   "display_name": "venv",
   "language": "python",
   "name": "python3"
  },
  "language_info": {
   "codemirror_mode": {
    "name": "ipython",
    "version": 3
   },
   "file_extension": ".py",
   "mimetype": "text/x-python",
   "name": "python",
   "nbconvert_exporter": "python",
   "pygments_lexer": "ipython3",
   "version": "3.11.3"
  },
  "orig_nbformat": 4
 },
 "nbformat": 4,
 "nbformat_minor": 2
}
