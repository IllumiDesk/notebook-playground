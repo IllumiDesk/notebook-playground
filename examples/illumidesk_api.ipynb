{
 "cells": [
  {
   "attachments": {},
   "cell_type": "markdown",
   "metadata": {},
   "source": [
    "## Query a Database with Natural Language\n",
    "\n",
    "Why? Because we can."
   ]
  },
  {
   "cell_type": "code",
   "execution_count": null,
   "metadata": {},
   "outputs": [],
   "source": [
    "ILLUMIDESK_PLANS = \"\"\"API documentation:\n",
    "Endpoint: https://api.illumidesk.com/api/v1\n",
    "GET /subscriptions/plans/\n",
    "\n",
    "This API is for fetching all available subscription plans.\n",
    "\n",
    "Response schema (JSON object):\n",
    "Plan | array[object] (Plan)\n",
    "\n",
    "Each object in the \"Plan\" key has the following schema:\n",
    "uuid | string($uuid)\n",
    "title | string\n",
    "description\t| string\n",
    "icon | string\n",
    "is_enterprise | boolean\n",
    "features | array[object] (PlanFeature)\n",
    "prices | array[object] (PlanPrice)\n",
    "\n",
    "Each object in the \"features\" key has the following schema:\n",
    "title | string\n",
    "type | string\n",
    "unit_label | string\n",
    "quantity | integer\n",
    "\n",
    "Each object in the \"prices\" key has the following schema:\n",
    "uuid | string($uuid)\n",
    "amount | string\n",
    "currency | string\n",
    "interval | string\n",
    "\"\"\""
   ]
  },
  {
   "cell_type": "code",
   "execution_count": 11,
   "metadata": {},
   "outputs": [
    {
     "name": "stdout",
     "output_type": "stream",
     "text": [
      "\n",
      "\n",
      "\u001b[1m> Entering new  chain...\u001b[0m\n",
      "\u001b[32;1m\u001b[1;3m https://api.illumidesk.com/api/v1/subscriptions/plans/?title=Pro\u001b[0m\n",
      "\u001b[33;1m\u001b[1;3m[{\"uuid\":\"0efe5681-f6bf-45e2-8531-36446a57945a\",\"title\":\"Free\",\"description\":\"\",\"icon\":\"library\",\"is_enterprise\":false,\"features\":[{\"title\":\"Instructor\",\"type\":\"number_instructors\",\"unit_label\":\"\",\"quantity\":1},{\"title\":\"LTI Integration\",\"type\":\"\",\"unit_label\":\"\",\"quantity\":null},{\"title\":\"Code cells with Python runtime\",\"type\":\"\",\"unit_label\":\"\",\"quantity\":null},{\"title\":\"Quiz components\",\"type\":\"\",\"unit_label\":\"\",\"quantity\":null},{\"title\":\"White label campus page\",\"type\":\"\",\"unit_label\":\"\",\"quantity\":null},{\"title\":\"Unlimited autograding runs\",\"type\":\"\",\"unit_label\":\"\",\"quantity\":null}],\"prices\":[{\"uuid\":\"8d2a0d5e-d40b-46a1-ae04-27c76d08a3d6\",\"amount\":0,\"currency\":\"usd\",\"interval\":\"year\"},{\"uuid\":\"f552ffb8-b4c8-477e-9390-645a7371d7cb\",\"amount\":0,\"currency\":\"usd\",\"interval\":\"month\"}]},{\"uuid\":\"fbe8e9e0-de78-4939-b2cd-abeeccc4b6cf\",\"title\":\"Pro\",\"description\":\"\",\"icon\":\"library\",\"is_enterprise\":false,\"features\":[{\"title\":\"Instructors\",\"type\":\"number_instructors\",\"unit_label\":\"\",\"quantity\":5},{\"title\":\"LTI Integration\",\"type\":\"\",\"unit_label\":\"\",\"quantity\":null},{\"title\":\"Code cells with Python runtime\",\"type\":\"\",\"unit_label\":\"\",\"quantity\":null},{\"title\":\"Quiz components\",\"type\":\"\",\"unit_label\":\"\",\"quantity\":null},{\"title\":\"White label campus page\",\"type\":\"\",\"unit_label\":\"\",\"quantity\":null},{\"title\":\"Custom domain\",\"type\":\"custom_domain\",\"unit_label\":\"\",\"quantity\":null},{\"title\":\"Unlimited access to generative AI\",\"type\":\"ai_integration\",\"unit_label\":\"\",\"quantity\":null},{\"title\":\"Unlimited autograding runs\",\"type\":\"\",\"unit_label\":\"\",\"quantity\":null}],\"prices\":[{\"uuid\":\"b5a0ef61-c359-4ad4-8732-d89c9827b0ef\",\"amount\":490,\"currency\":\"usd\",\"interval\":\"year\"},{\"uuid\":\"98d9ecd9-14dd-42d9-9f81-1f96db2c2b0d\",\"amount\":49,\"currency\":\"usd\",\"interval\":\"month\"}]},{\"uuid\":\"7432ba9c-9985-48e1-b91f-c965231ec545\",\"title\":\"Enterprise\",\"description\":\"\",\"icon\":\"library\",\"is_enterprise\":true,\"features\":[{\"title\":\"Instructors\",\"type\":\"number_instructors\",\"unit_label\":\"\",\"quantity\":-1},{\"title\":\"LTI Integration\",\"type\":\"\",\"unit_label\":\"\",\"quantity\":null},{\"title\":\"Code cells with Python runtime\",\"type\":\"\",\"unit_label\":\"\",\"quantity\":null},{\"title\":\"Quiz components\",\"type\":\"\",\"unit_label\":\"\",\"quantity\":null},{\"title\":\"White label campus page\",\"type\":\"\",\"unit_label\":\"\",\"quantity\":null},{\"title\":\"Custom domain\",\"type\":\"custom_domain\",\"unit_label\":\"\",\"quantity\":null},{\"title\":\"Jupyter Kernel with Python, Julia, R and other runtimes\",\"type\":\"jupyter_kernel\",\"unit_label\":\"\",\"quantity\":null},{\"title\":\"Unlimited access to generative AI\",\"type\":\"ai_integration\",\"unit_label\":\"\",\"quantity\":null},{\"title\":\"Unlimited autograding runs\",\"type\":\"\",\"unit_label\":\"\",\"quantity\":null},{\"title\":\"24/7 Support\",\"type\":\"\",\"unit_label\":\"\",\"quantity\":null}],\"prices\":null}]\u001b[0m\n",
      "\n",
      "\u001b[1m> Finished chain.\u001b[0m\n"
     ]
    },
    {
     "data": {
      "text/plain": [
       "\" The response contains a plan named 'Pro' which has a description of an empty string, an icon of 'library', is not an enterprise plan, has 8 features, and has two prices with amounts of 490 USD per year and 49 USD per month.\""
      ]
     },
     "execution_count": 11,
     "metadata": {},
     "output_type": "execute_result"
    }
   ],
   "source": [
    "from langchain.llms import OpenAI\n",
    "from langchain.chains import APIChain\n",
    "\n",
    "llm = OpenAI(temperature=0)\n",
    "headers = {\"Content-Type\": \"application/json\"}\n",
    "chain = APIChain.from_llm_and_api_docs(llm, headers=headers, api_docs=ILLUMIDESK_PLANS, verbose=True)\n",
    "chain.run(\"Get a plan named 'Pro' and return results\")"
   ]
  },
  {
   "cell_type": "code",
   "execution_count": null,
   "metadata": {},
   "outputs": [],
   "source": [
    "# Extend this example to include the following:\n",
    "\n",
    "# Define schema for endpoint. Use ILLUMIDESK_PLANS as a template.\n",
    "ILLUMIDESK_ENDPOINT_SCHEMA = \"\"\"API documentation: ...\"\"\"\n",
    "\n",
    "# Authenticate to the API using an API key\n",
    "# Get api key here: https://api.illumidesk.com/_platform/admin/accounts/token/\n",
    "illumidesk_api_key = 'xxxxx'\n",
    "\n",
    "# Instantiate llm with OpenAI. If you don't have the OPENAI_API_KEY set, you can pass it in here.\n",
    "llm = OpenAI(temperature=0)\n",
    "# or\n",
    "llm = OpenAI(temperature=0, api_key=illumidesk_api_key)\n",
    "\n",
    "# Define the headers with IllumiDesk's API key for authentication\n",
    "headers = {\"Authorization\": f\"Token: {illumidesk_api_key}\", \"Content-Type\": \"application/json\"}\n",
    "\n",
    "# Set up the APIChain\n",
    "chain = APIChain.from_llm_and_api_docs(llm, api_docs=ILLUMIDESK_ENDPOINT_SCHEMA, headers=headers, verbose=True)\n",
    "\n",
    "# Run the chain, update based on the endpoint you would like to query\n",
    "chain.run(\"Create an empty activity in the Campus 'Foobar', Course 'BizzBazz', within 'Lesson 1' and return results\")"
   ]
  }
 ],
 "metadata": {
  "kernelspec": {
   "display_name": "venv",
   "language": "python",
   "name": "python3"
  },
  "language_info": {
   "codemirror_mode": {
    "name": "ipython",
    "version": 3
   },
   "file_extension": ".py",
   "mimetype": "text/x-python",
   "name": "python",
   "nbconvert_exporter": "python",
   "pygments_lexer": "ipython3",
   "version": "3.11.3"
  },
  "orig_nbformat": 4
 },
 "nbformat": 4,
 "nbformat_minor": 2
}
